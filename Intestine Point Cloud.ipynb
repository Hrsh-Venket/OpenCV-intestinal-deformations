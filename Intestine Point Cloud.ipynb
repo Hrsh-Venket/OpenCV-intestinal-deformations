{
 "cells": [
  {
   "cell_type": "code",
   "execution_count": 5,
   "metadata": {},
   "outputs": [],
   "source": [
    "import cv2\n",
    "import numpy as np\n",
    "import open3d as o3d\n",
    "import matplotlib.pyplot as plt\n",
    "import skimage.io\n",
    "from scipy.ndimage import median_filter\n",
    "from scipy import signal\n",
    "from skimage import exposure\n",
    "import multipagetiff as mtif\n",
    "# import cloudComPy as cc\n",
    "# from n2v.models import N2VConfig, N2V\n",
    "# from n2v.internals.N2V_DataGenerator import N2V_DataGenerator\n",
    "# from csbdeep.utils import plot_history\n",
    "# from n2v.utils.n2v_utils import manipulate_val_data, autocorrelation\n",
    "# from google.colab.patches import cv2_imshow\n",
    "# from google.colab import drive\n",
    "import pyvista as pv\n",
    "from pyntcloud import PyntCloud"
   ]
  },
  {
   "attachments": {},
   "cell_type": "markdown",
   "metadata": {},
   "source": [
    "https://cloudconvert.com/tif-to-jpg"
   ]
  },
  {
   "attachments": {},
   "cell_type": "markdown",
   "metadata": {},
   "source": [
    "* https://ieeexplore.ieee.org/document/8954066\n",
    "* https://octave.org/\n",
    "* https://github.com/cloudcompare/cloudcompare / https://www.danielgm.net/cc/\n",
    "* https://scholar.google.com/scholar?oi=bibs&hl=en&cites=14009452987874973669&authuser=1\n",
    "* https://pointclouds.org/documentation/classpcl_1_1_morphology.html\n",
    "* https://scholar.google.com/scholar?hl=en&as_sdt=2005&sciodt=0%2C5&cites=9800399061227290708&scipsc=1&q=pointclouds&authuser=1\n",
    "\n",
    "checked\n",
    "--- \n",
    "* https://arxiv.org/pdf/2206.03977v1.pdf\n",
    "* https://scikit-learn.org/stable/modules/generated/sklearn.manifold.SpectralEmbedding.html\n",
    "* https://projecteuclid.org/journals/duke-mathematical-journal/volume-8/issue-2/Riemannian-manifolds-with-positive-mean-curvature/10.1215/S0012-7094-41-00832-3.short\n",
    "* https://inside.mines.edu/~whereman/papers/delaPorte-Herbst-Hereman-vanderWalt-PRASA-2008.pdf"
   ]
  },
  {
   "cell_type": "code",
   "execution_count": 2,
   "metadata": {},
   "outputs": [],
   "source": [
    "# from n2v.models import N2VConfig, N2V\n",
    "# from n2v.internals.N2V_DataGenerator import N2V_DataGenerator\n",
    "# import numpy as np\n",
    "# # Create a data generator\n",
    "# datagen = N2V_DataGenerator()\n",
    "\n",
    "# # Load your data\n",
    "# stack = mtif.read_stack(\"testimages/2022.12.21_APS018_Infection_PA14-GacA_40X_40%_EM-4_D2_3_7047.tif\", units='um')\n",
    "# stack= np.array(stack) \n",
    "# stack = stack[..., None]\n",
    "# stack.shape"
   ]
  },
  {
   "cell_type": "code",
   "execution_count": 3,
   "metadata": {},
   "outputs": [],
   "source": [
    "# config = N2VConfig(stack, unet_kern_size=3, \n",
    "#                    train_steps_per_epoch=10, train_epochs=30, train_loss='mse', batch_norm=True, \n",
    "#                    train_batch_size=128, n2v_perc_pix=0.198, n2v_patch_shape=(64, 64), \n",
    "#                    unet_n_first = 96,\n",
    "#                    unet_residual = True,\n",
    "#                    n2v_manipulator='normal_withoutCP', n2v_neighborhood_radius=2,\n",
    "#                    structN2Vmask = [[0,1,1,1,1,1,0]]) ## mask should be wide enough to cover most of the noise autocorrelation\n"
   ]
  },
  {
   "cell_type": "code",
   "execution_count": 4,
   "metadata": {},
   "outputs": [],
   "source": [
    "# # the base directory in which our model will live\n",
    "# basedir = 'models'\n",
    "# # We are now creating our network model.\n",
    "# model = N2V(config, 'n2v_2D', basedir=basedir)\n",
    "# model.prepare_for_training(metrics=())"
   ]
  },
  {
   "cell_type": "code",
   "execution_count": 5,
   "metadata": {},
   "outputs": [],
   "source": [
    "# out = model.train(stack, stack)"
   ]
  },
  {
   "cell_type": "code",
   "execution_count": 49,
   "metadata": {},
   "outputs": [
    {
     "data": {
      "application/vnd.jupyter.widget-view+json": {
       "model_id": "99d6207817124f8284effedac21a627c",
       "version_major": 2,
       "version_minor": 0
      },
      "text/plain": [
       "Widget(value=\"<iframe src='http://localhost:52238/index.html?ui=P_0x27927b56310_6&reconnect=auto' style='width…"
      ]
     },
     "metadata": {},
     "output_type": "display_data"
    }
   ],
   "source": [
    "import open3d as o3d\n",
    "import numpy as np\n",
    "\n",
    "# Load a stack of grayscale images\n",
    "images = mtif.read_stack(\"testimages/2022.12.21_APS018_Infection_PA14-GacA_40X_40%_EM-4_D2_3_7047.tif\", units='um')\n",
    "\n",
    "# Create an empty point cloud\n",
    "x_0 = o3d.geometry.PointCloud()\n",
    "\n",
    "# Add points to the point cloud for each pixel in the images\n",
    "for z, image in enumerate(images):\n",
    "    height, width = np.asarray(image).shape\n",
    "    for y in range(height):\n",
    "        for x in range(width):\n",
    "            # Create a point for the current pixel\n",
    "            point = [x, y, z]\n",
    "            # Set the intensity of the point to the pixel value\n",
    "            intensity = np.asarray(image)[y, x] / 255.0\n",
    "            # Add the point to the point cloud\n",
    "            x_0.points.append(point)\n",
    "            x_0.colors.append([intensity, intensity, intensity])\n",
    "\n",
    "# Scale the point cloud to improve visualization\n",
    "x_0.scale(0.1, center=x_0.get_center())\n",
    "\n",
    "# # Visualize the point cloud\n",
    "# o3d.visualization.draw_geometries([x_0])\n",
    "\n",
    "# Convert the Open3D point cloud to a PyVista point cloud\n",
    "points = np.asarray(x_0.points)\n",
    "colors = np.asarray(x_0.colors)\n",
    "pyvista_point_cloud = pv.PolyData(points)\n",
    "pyvista_point_cloud['colors'] = colors\n",
    "\n",
    "# Visualize the point cloud\n",
    "pyvista_point_cloud.plot(render_points_as_spheres=True)"
   ]
  },
  {
   "cell_type": "code",
   "execution_count": 54,
   "metadata": {},
   "outputs": [],
   "source": [
    "# import numpy as np\n",
    "# import open3d as o3d\n",
    "\n",
    "# # Load the 3D image stack\n",
    "# images = mtif.read_stack(\"testimages/2022.12.21_APS018_Infection_PA14-GacA_40X_40%_EM-4_D2_3_7047.tif\", units='um')\n",
    "\n",
    "# # # Extract pixel coordinates and map them to 3D space\n",
    "# # coords = []\n",
    "# # for i, image in enumerate(images):\n",
    "# #     coords_i = np.column_stack(np.where(image > 0))\n",
    "# #     coords_i = np.hstack((coords_i, np.full((coords_i.shape[0], 1), i)))  # Mapping to Z-coordinate\n",
    "# #     coords.append(coords_i)\n",
    "\n",
    "# # # Combine the pixel coordinates from all images\n",
    "# # all_coords = np.concatenate(coords)\n",
    "\n",
    "\n",
    "# # # Create a point cloud\n",
    "# # x_0 = o3d.geometry.PointCloud()\n",
    "# # x_0.points = o3d.utility.Vector3dVector(all_coords)\n",
    "\n",
    "# # # Visualize the point cloud\n",
    "# # o3d.visualization.draw_geometries([point_cloud])\n"
   ]
  },
  {
   "cell_type": "code",
   "execution_count": 20,
   "metadata": {},
   "outputs": [],
   "source": [
    "images = np.array(images)"
   ]
  },
  {
   "cell_type": "code",
   "execution_count": 21,
   "metadata": {},
   "outputs": [],
   "source": [
    "for img in images:\n",
    "  cv2.imshow('image', img)\n",
    "  cv2.waitKey(0)\n",
    "  cv2.destroyAllWindows()"
   ]
  },
  {
   "cell_type": "code",
   "execution_count": 22,
   "metadata": {},
   "outputs": [],
   "source": [
    "np_images = np.stack(images, axis=2)\n",
    "np_equalised_images = exposure.equalize_adapthist(np_images, clip_limit=0.03)\n",
    "equalised_images = np.split(np_equalised_images, np_equalised_images.shape[2], axis=2)\n",
    "equalised_images = [np.squeeze(img) for img in equalised_images]\n",
    "\n",
    "# try applying at different stages "
   ]
  },
  {
   "cell_type": "code",
   "execution_count": 48,
   "metadata": {},
   "outputs": [
    {
     "data": {
      "text/plain": [
       "(14, 512, 512)"
      ]
     },
     "execution_count": 48,
     "metadata": {},
     "output_type": "execute_result"
    }
   ],
   "source": [
    "np.asarray(equalised_images).shape\n"
   ]
  },
  {
   "cell_type": "code",
   "execution_count": 52,
   "metadata": {},
   "outputs": [
    {
     "data": {
      "application/vnd.jupyter.widget-view+json": {
       "model_id": "58429d20aeec406fb2074c7bf32ba3e6",
       "version_major": 2,
       "version_minor": 0
      },
      "text/plain": [
       "Widget(value=\"<iframe src='http://localhost:52238/index.html?ui=P_0x27927adb190_7&reconnect=auto' style='width…"
      ]
     },
     "metadata": {},
     "output_type": "display_data"
    }
   ],
   "source": [
    "# Create an empty point cloud\n",
    "x_1 = o3d.geometry.PointCloud()\n",
    "\n",
    "# Add points to the point cloud for each pixel in the images\n",
    "for z, image in enumerate(equalised_images):\n",
    "    height, width = np.asarray(image).shape\n",
    "    for y in range(height):\n",
    "        for x in range(width):\n",
    "            # Create a point for the current pixel\n",
    "            point = [x, y, z]\n",
    "            # Set the intensity of the point to the pixel value\n",
    "            intensity = np.asarray(image)[y, x] / 255.0\n",
    "            # Add the point to the point cloud\n",
    "            x_1.points.append(point)\n",
    "            x_1.colors.append([intensity, intensity, intensity])\n",
    "\n",
    "# Scale the point cloud to improve visualization\n",
    "x_1.scale(0.1, center=x_0.get_center())\n",
    "\n",
    "# # Visualize the point cloud\n",
    "# o3d.visualization.draw_geometries([x_0])\n",
    "\n",
    "# Convert the Open3D point cloud to a PyVista point cloud\n",
    "points = np.asarray(x_1.points)\n",
    "colors = np.asarray(x_1.colors)\n",
    "pyvista_point_cloud = pv.PolyData(points)\n",
    "pyvista_point_cloud['colors'] = colors\n",
    "\n",
    "# Visualize the point cloud\n",
    "pyvista_point_cloud.plot(render_points_as_spheres=True)"
   ]
  },
  {
   "cell_type": "code",
   "execution_count": 10,
   "metadata": {},
   "outputs": [],
   "source": [
    "# for eqimg in equalised_images:\n",
    "#     cv2.imshow('image', eqimg)\n",
    "#     cv2.waitKey(0)\n",
    "#     cv2.destroyAllWindows()"
   ]
  },
  {
   "cell_type": "code",
   "execution_count": 29,
   "metadata": {},
   "outputs": [],
   "source": [
    "eq_images = np.stack(equalised_images, axis=2)\n",
    "med_blur_images_numpyarray = signal.medfilt(eq_images, kernel_size=(3,3,3))\n",
    "med_blur_images = np.split(med_blur_images_numpyarray, med_blur_images_numpyarray.shape[2], axis=2)\n",
    "med_blur_images = [np.squeeze(img) for img in med_blur_images]"
   ]
  },
  {
   "cell_type": "code",
   "execution_count": 53,
   "metadata": {},
   "outputs": [
    {
     "data": {
      "application/vnd.jupyter.widget-view+json": {
       "model_id": "ad6fee23ac9244788b5a78a25835f4c9",
       "version_major": 2,
       "version_minor": 0
      },
      "text/plain": [
       "Widget(value=\"<iframe src='http://localhost:52238/index.html?ui=P_0x27927bf93a0_8&reconnect=auto' style='width…"
      ]
     },
     "metadata": {},
     "output_type": "display_data"
    }
   ],
   "source": [
    "# Create an empty point cloud\n",
    "x_2 = o3d.geometry.PointCloud()\n",
    "\n",
    "# Add points to the point cloud for each pixel in the images\n",
    "for z, image in enumerate(med_blur_images):\n",
    "    height, width = np.asarray(image).shape\n",
    "    for y in range(height):\n",
    "        for x in range(width):\n",
    "            # Create a point for the current pixel\n",
    "            point = [x, y, z]\n",
    "            # Set the intensity of the point to the pixel value\n",
    "            intensity = np.asarray(image)[y, x] / 255.0\n",
    "            # Add the point to the point cloud\n",
    "            x_2.points.append(point)\n",
    "            x_2.colors.append([intensity, intensity, intensity])\n",
    "\n",
    "# Scale the point cloud to improve visualization\n",
    "x_2.scale(0.1, center=x_0.get_center())\n",
    "\n",
    "# # Visualize the point cloud\n",
    "# o3d.visualization.draw_geometries([x_0])\n",
    "\n",
    "# Convert the Open3D point cloud to a PyVista point cloud\n",
    "points = np.asarray(x_2.points)\n",
    "colors = np.asarray(x_2.colors)\n",
    "pyvista_point_cloud = pv.PolyData(points)\n",
    "pyvista_point_cloud['colors'] = colors\n",
    "\n",
    "# Visualize the point cloud\n",
    "pyvista_point_cloud.plot(render_points_as_spheres=True)"
   ]
  },
  {
   "cell_type": "code",
   "execution_count": 12,
   "metadata": {},
   "outputs": [],
   "source": [
    "for med_img in med_blur_images:\n",
    "    cv2.imshow('image', med_img)\n",
    "    cv2.waitKey(0)\n",
    "    cv2.destroyAllWindows()"
   ]
  },
  {
   "cell_type": "code",
   "execution_count": 33,
   "metadata": {},
   "outputs": [],
   "source": [
    "def convert_float64_to_uint8(float64_images):\n",
    "    uint8_images = []\n",
    "    for float64_image in float64_images:\n",
    "        # Normalize pixel values to the range [0, 255]\n",
    "        norm_image = ((float64_image - float64_image.min()) / (float64_image.max() - float64_image.min())) * 255\n",
    "        # Convert data type to uint8\n",
    "        uint8_image = norm_image.astype(np.uint8)\n",
    "        uint8_images.append(uint8_image)\n",
    "    return uint8_images\n",
    "\n",
    "uint8_med_blur = convert_float64_to_uint8(med_blur_images)"
   ]
  },
  {
   "cell_type": "code",
   "execution_count": 34,
   "metadata": {},
   "outputs": [],
   "source": [
    "for med_img in uint8_med_blur:\n",
    "    cv2.imshow('image', med_img)\n",
    "    cv2.waitKey(0)\n",
    "    cv2.destroyAllWindows()"
   ]
  },
  {
   "attachments": {},
   "cell_type": "markdown",
   "metadata": {},
   "source": [
    "point cloud after median filtering\n",
    "\n",
    "After 3d equalsisation, top and bottom images are still darker than the central images in the stack\n",
    "so 2d otsu's will set lower thresholds for top and bottom images than for central images\n"
   ]
  },
  {
   "cell_type": "code",
   "execution_count": 35,
   "metadata": {},
   "outputs": [],
   "source": [
    "# binary_images = []\n",
    "# for med_img in uint8_med_blur:\n",
    "#     _, binary_image = cv2.threshold(med_img, 0, 255, cv2.THRESH_BINARY + cv2.THRESH_OTSU)\n",
    "#     # binary_image = cv2.adaptiveThreshold(image, 255, cv2.ADAPTIVE_THRESH_GAUSSIAN_C, cv2.THRESH_BINARY, 11, 2)\n",
    "\n",
    "#     # _, binary_image = cv2.threshold(eqimg, 0, 255, cv2.THRESH_BINARY)\n",
    "#     binary_images.append(binary_image)\n",
    "\n",
    "binary_images = []\n",
    "for med_img in uint8_med_blur:\n",
    "    _, binary_image = cv2.threshold(med_img, 135, 255, cv2.THRESH_BINARY)\n",
    "    binary_images.append(binary_image)"
   ]
  },
  {
   "cell_type": "code",
   "execution_count": 54,
   "metadata": {},
   "outputs": [
    {
     "data": {
      "application/vnd.jupyter.widget-view+json": {
       "model_id": "093ea029c64d4e84b159708a28f36eb6",
       "version_major": 2,
       "version_minor": 0
      },
      "text/plain": [
       "Widget(value=\"<iframe src='http://localhost:52238/index.html?ui=P_0x2792a81f100_9&reconnect=auto' style='width…"
      ]
     },
     "metadata": {},
     "output_type": "display_data"
    }
   ],
   "source": [
    "# Create an empty point cloud\n",
    "x_3 = o3d.geometry.PointCloud()\n",
    "\n",
    "# Add points to the point cloud for each pixel in the images\n",
    "for z, image in enumerate(binary_images):\n",
    "    height, width = np.asarray(image).shape\n",
    "    for y in range(height):\n",
    "        for x in range(width):\n",
    "            # Create a point for the current pixel\n",
    "            point = [x, y, z]\n",
    "            # Set the intensity of the point to the pixel value\n",
    "            intensity = np.asarray(image)[y, x] / 255.0\n",
    "            # Add the point to the point cloud\n",
    "            x_3.points.append(point)\n",
    "            x_3.colors.append([intensity, intensity, intensity])\n",
    "\n",
    "# Scale the point cloud to improve visualization\n",
    "x_3.scale(0.1, center=x_0.get_center())\n",
    "\n",
    "# # Visualize the point cloud\n",
    "# o3d.visualization.draw_geometries([x_0])\n",
    "\n",
    "# Convert the Open3D point cloud to a PyVista point cloud\n",
    "points = np.asarray(x_3.points)\n",
    "colors = np.asarray(x_3.colors)\n",
    "pyvista_point_cloud = pv.PolyData(points)\n",
    "pyvista_point_cloud['colors'] = colors\n",
    "\n",
    "# Visualize the point cloud\n",
    "pyvista_point_cloud.plot(render_points_as_spheres=True)"
   ]
  },
  {
   "cell_type": "code",
   "execution_count": 16,
   "metadata": {},
   "outputs": [],
   "source": [
    "for bin_img in binary_images:\n",
    "    cv2.imshow('binary image', bin_img)\n",
    "    cv2.waitKey(0)\n",
    "    cv2.destroyAllWindows()"
   ]
  },
  {
   "cell_type": "code",
   "execution_count": 17,
   "metadata": {},
   "outputs": [],
   "source": [
    "kernel_size = 5\n",
    "kernel = cv2.getStructuringElement(cv2.MORPH_OPEN, (kernel_size, kernel_size))\n",
    "\n",
    "# Apply morphological closing operation to each binary image\n",
    "closed_images = []\n",
    "for binary_image in binary_images:\n",
    "    closed_img = cv2.morphologyEx(binary_image, cv2.MORPH_CLOSE, kernel, iterations=0)\n",
    "    closed_images.append(closed_img)"
   ]
  },
  {
   "cell_type": "code",
   "execution_count": 18,
   "metadata": {},
   "outputs": [],
   "source": [
    "for cls_img in closed_images:\n",
    "    # plt.imshow(bin_img, cmap='gray')\n",
    "    # plt.show()\n",
    "    cv2.imshow('binary image', cls_img)\n",
    "    cv2.waitKey(0)\n",
    "    cv2.destroyAllWindows()"
   ]
  },
  {
   "cell_type": "code",
   "execution_count": 72,
   "metadata": {},
   "outputs": [],
   "source": [
    "# Extract pixel coordinates and map them to 3D space\n",
    "coords = []\n",
    "for i, image in enumerate(closed_images):\n",
    "    coords_i = np.column_stack(np.where(image > 0))\n",
    "    coords_i = np.hstack((coords_i, np.full((coords_i.shape[0], 1), -i)))  # Mapping to Z-coordinate\n",
    "    coords.append(coords_i)\n",
    "\n",
    "# Combine the pixel coordinates from all images\n",
    "all_coords = np.concatenate(coords)\n",
    "\n",
    "# Scale and normalize the coordinates\n",
    "scale_factor_z = 3  # Adjust the scale factor for the z-axis as needed\n",
    "all_coords[:, 2] = all_coords[:, 2] * scale_factor_z\n",
    "\n",
    "# Calculate the center of the point cloud\n",
    "center = np.mean(all_coords, axis=0)\n",
    "\n",
    "# Translate the coordinates to center the point cloud\n",
    "all_coords[:, 0] = all_coords[:, 0] - center[0]\n",
    "all_coords[:, 1] = all_coords[:, 1] - center[1]\n",
    "all_coords[:, 2] = all_coords[:, 2] - center[2]\n",
    "\n",
    "# Create a point cloud\n",
    "point_cloud = o3d.geometry.PointCloud()\n",
    "point_cloud.points = o3d.utility.Vector3dVector(all_coords[:, [1, 0, 2]])  # Swap X and Y axes for Open3D"
   ]
  },
  {
   "cell_type": "code",
   "execution_count": 73,
   "metadata": {},
   "outputs": [],
   "source": [
    "# Visualize the point cloud\n",
    "downpcd = point_cloud.voxel_down_sample(voxel_size=0.0001)\n",
    "\n",
    "o3d.visualization.draw_geometries([point_cloud],\n",
    "                                  zoom=1,\n",
    "                                  front=[0.4257, -0.2125, -0.8795],\n",
    "                                  lookat=[0, 0, 0],\n",
    "                                  up=[-0.0694, -0.9768, 0.2024],\n",
    "                                  point_show_normal=True,)\n"
   ]
  },
  {
   "cell_type": "code",
   "execution_count": 74,
   "metadata": {},
   "outputs": [],
   "source": [
    "#!/usr/bin/env python3\n",
    "# -*- coding: utf-8 -*-\n",
    "\"\"\"\n",
    "###################################################################\n",
    "This Source Code Form is subject to the terms of the Mozilla Public\n",
    "License, v. 2.0. If a copy of the MPL was not distributed with this\n",
    "file, You can obtain one at https://mozilla.org/MPL/2.0/.\n",
    "\n",
    "copyright (c) 2020, Peter Szutor\n",
    "\n",
    "@author: Peter Szutor, Hungary, szppaks@gmail.com\n",
    "Created on Wed Feb 26 17:23:24 2020\n",
    "###################################################################\n",
    "\n",
    "\n",
    "\n",
    "Octree-based lossy point-cloud compression with open3d and numpy\n",
    "Average compressing rate (depends on octreee depth setting parameter): 0.012 - 0.1\n",
    "\n",
    "\n",
    "Input formats: You can get a list of supported formats from : http://www.open3d.org/docs/release/tutorial/Basic/file_io.html#point-cloud\n",
    "               (xyz,pts,ply,pcd)\n",
    "\n",
    "Usage:\n",
    "\n",
    "Dependencies: Open3D, Numpy  (You can install theese modules:  pip install open3d, pip install numpy)\n",
    "\n",
    "Compress a point cloud:\n",
    "\n",
    "octreezip(<filename>,<depth>) -> <result>\n",
    "<filename>: (str) Point Cloud file name. Saved file name: [filename without ext]_ocz.npz  (Yes, it's a numpy array file)\n",
    "<depth>   : (str) Octree depth. You can try 11-16 for best result. Bigger depht results higher precision and bigger compressed file size.\n",
    "<result>  : (str) If the compressing was success you get: \"Compressed into:[comp.file name] | Storing resolution:0.003445\". Storing resolution means the precision.\n",
    "                  The PC file is missing or bad: \"PC is empty, bad, or missing\"\n",
    "                  Other error: \"Error: [error message]\"\n",
    "\n",
    "\n",
    "Uncompressing:\n",
    "octreeunzip(<filename>) -> <result>\n",
    "<filename>: (str) Zipped Point Cloud file name (npz). Saved file name: [filename].xyz  (standard XYZ text file)\n",
    "<result>  : (str) If the compressing was success you get: \"Saved: [filename].xyz\"\n",
    "                  Other error: \"Error: [error message]\"\n",
    "\"\"\"\n",
    "import numpy as np\n",
    "import os\n",
    "import open3d as o3d\n",
    "\n",
    "def d1halfing_fast(pmin,pmax,pdepht):\n",
    "    return np.linspace(pmin,pmax,2**int(pdepht)+1)\n",
    "\n",
    "def octreecodes(ppoints,pdepht):\n",
    "    minx=np.amin(ppoints[:,0])\n",
    "    maxx=np.amax(ppoints[:,0])\n",
    "    miny=np.amin(ppoints[:,1])\n",
    "    maxy=np.amax(ppoints[:,1])\n",
    "    minz=np.amin(ppoints[:,2])\n",
    "    maxz=np.amax(ppoints[:,2])\n",
    "    xletra=d1halfing_fast(minx,maxx,pdepht)\n",
    "    yletra=d1halfing_fast(miny,maxy,pdepht)\n",
    "    zletra=d1halfing_fast(minz,maxz,pdepht)\n",
    "    otcodex=np.searchsorted(xletra,ppoints[:,0],side='right')-1\n",
    "    otcodey=np.searchsorted(yletra,ppoints[:,1],side='right')-1\n",
    "    otcodez=np.searchsorted(zletra,ppoints[:,2],side='right')-1\n",
    "    ki=otcodex*(2**(pdepht*2))+otcodey*(2**pdepht)+otcodez\n",
    "    return (ki,minx,maxx,miny,maxy,minz,maxz)\n",
    "\n",
    "def octreezip(pfilename,pdepht):\n",
    "    try:\n",
    "        pcd = o3d.io.read_point_cloud(pfilename,format='auto')\n",
    "        ppoints=np.asarray(pcd.points)\n",
    "        if len(ppoints)>0:\n",
    "            occ=octreecodes(ppoints,pdepht)\n",
    "            occsorted=np.sort(occ[0])\n",
    "            prec=np.amax(np.asarray([occ[2]-occ[1],occ[4]-occ[3],occ[6]-occ[5]])/(2**pdepht))\n",
    "            paramarr=np.asarray([pdepht,occ[1],occ[2],occ[3],occ[4],occ[5],occ[6]]) #depth and boundary\n",
    "            np.savez_compressed(os.path.splitext(pfilename)[0]+'_ocz',points=occsorted,params=paramarr)\n",
    "            retmessage='Compressed into:'+str(os.path.splitext(pfilename)[0])+'.ocz | Storing resolution:'+str(prec)\n",
    "        else:\n",
    "            retmessage='PC is empty, bad, or missing'\n",
    "    except Exception as e:\n",
    "        retmessage='Error:'+str(e)\n",
    "    return retmessage\n",
    "\n",
    "def octreeunzip(pfilename):\n",
    "    try:\n",
    "        pc=np.load(pfilename)\n",
    "        pcpoints=pc['points']\n",
    "        pcparams=pc['params']\n",
    "        pdepht=(pcparams[0])\n",
    "        minx=(pcparams[1])\n",
    "        maxx=(pcparams[2])\n",
    "        miny=(pcparams[3])\n",
    "        maxy=(pcparams[4])\n",
    "        minz=(pcparams[5])\n",
    "        maxz=(pcparams[6])\n",
    "        xletra=d1halfing_fast(minx,maxx,pdepht)\n",
    "        yletra=d1halfing_fast(miny,maxy,pdepht)\n",
    "        zletra=d1halfing_fast(minz,maxz,pdepht)\n",
    "        occodex=(pcpoints/(2**(pdepht*2))).astype(int)\n",
    "        occodey=((pcpoints-occodex*(2**(pdepht*2)))/(2**pdepht)).astype(int)\n",
    "        occodez=(pcpoints-occodex*(2**(pdepht*2))-occodey*(2**pdepht)).astype(int)\n",
    "        koorx=xletra[occodex]\n",
    "        koory=yletra[occodey]\n",
    "        koorz=zletra[occodez]\n",
    "        points=np.array([koorx,koory,koorz]).T\n",
    "        np.savetxt(os.path.splitext(pfilename)[0]+'.xyz',points,fmt='%.4f')\n",
    "        retmessage='Saved:'+os.path.splitext(pfilename)[0]+'.xyz'\n",
    "    except Exception as e:\n",
    "        retmessage='Error:'+str(e)\n",
    "    return retmessage"
   ]
  },
  {
   "cell_type": "code",
   "execution_count": 75,
   "metadata": {},
   "outputs": [
    {
     "data": {
      "text/plain": [
       "'Compressed into:point_cloud.ocz | Storing resolution:1.9921875'"
      ]
     },
     "execution_count": 75,
     "metadata": {},
     "output_type": "execute_result"
    }
   ],
   "source": [
    "# Save the point cloud\n",
    "o3d.io.write_point_cloud(\"point_cloud.ply\", point_cloud)\n",
    "octreezip('point_cloud.ply', 8)"
   ]
  },
  {
   "cell_type": "code",
   "execution_count": 47,
   "metadata": {},
   "outputs": [
    {
     "data": {
      "text/plain": [
       "'Saved:point_cloud_ocz.xyz'"
      ]
     },
     "execution_count": 47,
     "metadata": {},
     "output_type": "execute_result"
    }
   ],
   "source": [
    "octreeunzip('point_cloud_ocz.npz')"
   ]
  },
  {
   "cell_type": "code",
   "execution_count": 48,
   "metadata": {},
   "outputs": [],
   "source": [
    "# Uncompress the point cloud\n",
    "\n",
    "\n",
    "# Read the uncompressed point cloud from file\n",
    "comp1pcd = o3d.io.read_point_cloud('point_cloud_ocz.xyz')\n",
    "\n",
    "# type(compressed1pcd)"
   ]
  },
  {
   "cell_type": "code",
   "execution_count": 49,
   "metadata": {},
   "outputs": [],
   "source": [
    "# compressed1pcd = octreeunzip('point_cloud_ocz.npz')\n",
    "\n",
    "# Visualize the compressed point cloud\n",
    "o3d.visualization.draw_geometries([comp1pcd],\n",
    "                                  zoom=1,\n",
    "                                  front=[0.4257, -0.2125, -0.8795],\n",
    "                                  lookat=[0, 0, 0],\n",
    "                                  up=[-0.0694, -0.9768, 0.2024],\n",
    "                                  point_show_normal=True)\n"
   ]
  },
  {
   "cell_type": "code",
   "execution_count": 24,
   "metadata": {},
   "outputs": [],
   "source": [
    "# # Create a mesh from the point cloud using alpha shape algorithm\n",
    "# alpha = 5\n",
    "# print(f\"alpha={alpha:.3f}\")\n",
    "# mesh = o3d.geometry.TriangleMesh.create_from_point_cloud_alpha_shape(point_cloud, alpha)\n",
    "# mesh.compute_vertex_normals()"
   ]
  },
  {
   "cell_type": "code",
   "execution_count": 25,
   "metadata": {},
   "outputs": [],
   "source": [
    "# o3d.visualization.draw_geometries([mesh], mesh_show_back_face=True)"
   ]
  },
  {
   "attachments": {},
   "cell_type": "markdown",
   "metadata": {},
   "source": [
    "- incorporate cylinders and knowledge of cylinders\n",
    "- computer graphics and curvature\n",
    "- "
   ]
  },
  {
   "cell_type": "code",
   "execution_count": 26,
   "metadata": {},
   "outputs": [],
   "source": [
    "# import networkx as nx\n",
    "# from GraphRicciCurvature.OllivierRicci import OllivierRicci\n",
    "\n",
    "# # First, you need to convert your 3D mesh into a NetworkX graph\n",
    "# G = nx.Graph()\n",
    "\n",
    "# # Add nodes to the graph\n",
    "# for i, vertex in enumerate(mesh.vertices):\n",
    "#     G.add_node(i, pos=vertex)\n",
    "\n",
    "# # Add edges to the graph\n",
    "# for triangle in mesh.triangles:\n",
    "#     G.add_edge(triangle[0], triangle[1])\n",
    "#     G.add_edge(triangle[1], triangle[2])\n",
    "#     G.add_edge(triangle[2], triangle[0])\n",
    "\n",
    "# # Compute Ricci curvature using the GraphRicciCurvature library\n",
    "# orc = OllivierRicci(G, alpha=10, verbose=\"INFO\")\n",
    "# G_orc = orc.compute_ricci_curvature()\n"
   ]
  },
  {
   "cell_type": "code",
   "execution_count": 27,
   "metadata": {},
   "outputs": [],
   "source": [
    "# from pydiffmap import diffusion_map as dm\n",
    "# # from pydiffmap.kernel import VariableBandwidthKernel\n",
    "\n",
    "# data = np.asarray(point_cloud.points)\n",
    "\n",
    "# # Construct a Gaussian kernel object\n",
    "# kernel_object = dm.kernel.Kernel(kernel_type='gaussian', epsilon='bgh')\n",
    "\n",
    "# # Create an instance of the DiffusionMap class\n",
    "# dmap = dm.DiffusionMap(kernel_object=kernel_object, n_evecs=3)\n",
    "\n",
    "# # Compute the diffusion map\n",
    "# dmap_data = dmap.fit_transform(data)\n",
    "\n",
    "# from pydiffmap import visualization as vis\n",
    "\n",
    "# vis.data_plot(dmap)"
   ]
  },
  {
   "attachments": {},
   "cell_type": "markdown",
   "metadata": {},
   "source": [
    "- compute a diffusion map reducing from 3d point cloud to 2d\n",
    "- fit a line through the diffusion map (PCA?)\\\n",
    "- https://en.wikipedia.org/wiki/Curvature\n",
    "- Calculate curvature by seeing how much the generated line deviates from a straight line\n",
    "- \n"
   ]
  },
  {
   "attachments": {},
   "cell_type": "markdown",
   "metadata": {},
   "source": []
  },
  {
   "attachments": {},
   "cell_type": "markdown",
   "metadata": {},
   "source": []
  }
 ],
 "metadata": {
  "kernelspec": {
   "display_name": "base",
   "language": "python",
   "name": "python3"
  },
  "language_info": {
   "codemirror_mode": {
    "name": "ipython",
    "version": 3
   },
   "file_extension": ".py",
   "mimetype": "text/x-python",
   "name": "python",
   "nbconvert_exporter": "python",
   "pygments_lexer": "ipython3",
   "version": "3.9.5"
  },
  "orig_nbformat": 4
 },
 "nbformat": 4,
 "nbformat_minor": 2
}
