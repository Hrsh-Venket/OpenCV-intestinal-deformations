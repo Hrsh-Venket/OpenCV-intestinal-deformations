{
  "cells": [
    {
      "cell_type": "markdown",
      "metadata": {
        "id": "view-in-github",
        "colab_type": "text"
      },
      "source": [
        "<a href=\"https://colab.research.google.com/github/Hrsh-Venket/OpenCV-intestinal-deformations/blob/main/intestine.ipynb\" target=\"_parent\"><img src=\"https://colab.research.google.com/assets/colab-badge.svg\" alt=\"Open In Colab\"/></a>"
      ]
    },
    {
      "cell_type": "code",
      "execution_count": null,
      "metadata": {
        "colab": {
          "base_uri": "https://localhost:8080/"
        },
        "id": "f60PpyODSteZ",
        "outputId": "ff93bd74-3636-4677-b895-951a276c5ff5"
      },
      "outputs": [
        {
          "output_type": "stream",
          "name": "stdout",
          "text": [
            "Requirement already satisfied: multipagetiff in /usr/local/lib/python3.10/dist-packages (3.0.9)\n",
            "Requirement already satisfied: numpy in /usr/local/lib/python3.10/dist-packages (from multipagetiff) (1.23.5)\n",
            "Requirement already satisfied: matplotlib in /usr/local/lib/python3.10/dist-packages (from multipagetiff) (3.7.1)\n",
            "Requirement already satisfied: tqdm in /usr/local/lib/python3.10/dist-packages (from multipagetiff) (4.66.0)\n",
            "Requirement already satisfied: scipy in /usr/local/lib/python3.10/dist-packages (from multipagetiff) (1.10.1)\n",
            "Requirement already satisfied: contourpy>=1.0.1 in /usr/local/lib/python3.10/dist-packages (from matplotlib->multipagetiff) (1.1.0)\n",
            "Requirement already satisfied: cycler>=0.10 in /usr/local/lib/python3.10/dist-packages (from matplotlib->multipagetiff) (0.11.0)\n",
            "Requirement already satisfied: fonttools>=4.22.0 in /usr/local/lib/python3.10/dist-packages (from matplotlib->multipagetiff) (4.42.0)\n",
            "Requirement already satisfied: kiwisolver>=1.0.1 in /usr/local/lib/python3.10/dist-packages (from matplotlib->multipagetiff) (1.4.4)\n",
            "Requirement already satisfied: packaging>=20.0 in /usr/local/lib/python3.10/dist-packages (from matplotlib->multipagetiff) (23.1)\n",
            "Requirement already satisfied: pillow>=6.2.0 in /usr/local/lib/python3.10/dist-packages (from matplotlib->multipagetiff) (9.4.0)\n",
            "Requirement already satisfied: pyparsing>=2.3.1 in /usr/local/lib/python3.10/dist-packages (from matplotlib->multipagetiff) (3.1.1)\n",
            "Requirement already satisfied: python-dateutil>=2.7 in /usr/local/lib/python3.10/dist-packages (from matplotlib->multipagetiff) (2.8.2)\n",
            "Requirement already satisfied: six>=1.5 in /usr/local/lib/python3.10/dist-packages (from python-dateutil>=2.7->matplotlib->multipagetiff) (1.16.0)\n"
          ]
        }
      ],
      "source": [
        "!pip install multipagetiff"
      ]
    },
    {
      "cell_type": "code",
      "execution_count": null,
      "metadata": {
        "id": "IJtvHBXdZGOP"
      },
      "outputs": [],
      "source": [
        "import cv2\n",
        "import numpy as np\n",
        "import matplotlib.pyplot as plt\n",
        "import skimage.io\n",
        "import skimage\n",
        "import scipy\n",
        "# from scipy.ndimage import median_filters\n",
        "from scipy import signal\n",
        "from skimage import exposure\n",
        "import multipagetiff as mtif\n",
        "from google.colab.patches import cv2_imshow\n",
        "from google.colab import drive"
      ]
    },
    {
      "cell_type": "code",
      "execution_count": null,
      "metadata": {
        "id": "cPAXiqpMw_Ml"
      },
      "outputs": [],
      "source": [
        "from skimage.filters import threshold_otsu\n",
        "import numpy as np\n",
        "\n",
        "def binarise(images):\n",
        "    image_stack = np.array(images)\n",
        "\n",
        "    # Get the shape of the image stack\n",
        "    depth, height, width = image_stack.shape\n",
        "\n",
        "    # Reshape the image stack into a single 2D image\n",
        "    combined_image = image_stack.reshape(depth * height, width)\n",
        "\n",
        "    gray_image = combined_image\n",
        "\n",
        "    # Compute Otsu's threshold for the combined image\n",
        "    threshold = threshold_otsu(gray_image)\n",
        "\n",
        "    # Apply the threshold to the combined image\n",
        "    thresholded_image = gray_image > threshold\n",
        "\n",
        "    # Reshape the thresholded image back into a 3D stack\n",
        "    thresholded_stack = thresholded_image.reshape(depth, height, width)\n",
        "\n",
        "    return thresholded_stack\n"
      ]
    },
    {
      "cell_type": "code",
      "execution_count": null,
      "metadata": {
        "colab": {
          "base_uri": "https://localhost:8080/"
        },
        "id": "dYKrV1v4RFYv",
        "outputId": "51f9474e-7cf6-4498-fcd7-c9476d3c9ee7"
      },
      "outputs": [
        {
          "output_type": "stream",
          "name": "stdout",
          "text": [
            "\n",
            "WARNING: apt does not have a stable CLI interface. Use with caution in scripts.\n",
            "\n",
            "/usr/bin/xdg-open: 882: www-browser: not found\n",
            "/usr/bin/xdg-open: 882: links2: not found\n",
            "/usr/bin/xdg-open: 882: elinks: not found\n",
            "/usr/bin/xdg-open: 882: links: not found\n",
            "/usr/bin/xdg-open: 882: lynx: not found\n",
            "/usr/bin/xdg-open: 882: w3m: not found\n",
            "xdg-open: no method available for opening 'https://accounts.google.com/o/oauth2/auth?client_id=564921029129.apps.googleusercontent.com&redirect_uri=https%3A%2F%2Fgd-ocaml-auth.appspot.com%2Foauth2callback&scope=https%3A%2F%2Fwww.googleapis.com%2Fauth%2Fdrive&response_type=code&access_type=offline&approval_prompt=force&state=p3g1l8c0wn8hvZ0eLtdk9ESpXWpm0GqGgekKCiIo7cM'\n",
            "/bin/sh: 1: firefox: not found\n",
            "/bin/sh: 1: google-chrome: not found\n",
            "/bin/sh: 1: chromium-browser: not found\n",
            "/usr/bin/open: 882: www-browser: not found\n",
            "/usr/bin/open: 882: links2: not found\n",
            "/usr/bin/open: 882: elinks: not found\n",
            "/usr/bin/open: 882: links: not found\n",
            "/usr/bin/open: 882: lynx: not found\n",
            "/usr/bin/open: 882: w3m: not found\n",
            "xdg-open: no method available for opening 'https://accounts.google.com/o/oauth2/auth?client_id=564921029129.apps.googleusercontent.com&redirect_uri=https%3A%2F%2Fgd-ocaml-auth.appspot.com%2Foauth2callback&scope=https%3A%2F%2Fwww.googleapis.com%2Fauth%2Fdrive&response_type=code&access_type=offline&approval_prompt=force&state=p3g1l8c0wn8hvZ0eLtdk9ESpXWpm0GqGgekKCiIo7cM'\n",
            "Cannot retrieve auth tokens.\n",
            "Failure(\"Error opening URL:https://accounts.google.com/o/oauth2/auth?client_id=564921029129.apps.googleusercontent.com&redirect_uri=https%3A%2F%2Fgd-ocaml-auth.appspot.com%2Foauth2callback&scope=https%3A%2F%2Fwww.googleapis.com%2Fauth%2Fdrive&response_type=code&access_type=offline&approval_prompt=force&state=p3g1l8c0wn8hvZ0eLtdk9ESpXWpm0GqGgekKCiIo7cM\")\n"
          ]
        }
      ],
      "source": [
        "!sudo add-apt-repository -y ppa:alessandro-strada/ppa 2>&1 > /dev/null\n",
        "!sudo apt-get update -qq 2>&1 > /dev/null\n",
        "!sudo apt -y install -qq google-drive-ocamlfuse 2>&1 > /dev/null\n",
        "!google-drive-ocamlfuse"
      ]
    },
    {
      "cell_type": "code",
      "execution_count": null,
      "metadata": {
        "id": "nUm8AMSYZGOQ",
        "colab": {
          "base_uri": "https://localhost:8080/"
        },
        "outputId": "1864538d-0366-43ea-b7c4-0852a7d33240"
      },
      "outputs": [
        {
          "output_type": "stream",
          "name": "stdout",
          "text": [
            "Drive already mounted at /gdrive; to attempt to forcibly remount, call drive.mount(\"/gdrive\", force_remount=True).\n"
          ]
        }
      ],
      "source": [
        "drive.mount('/gdrive')"
      ]
    },
    {
      "cell_type": "code",
      "execution_count": null,
      "metadata": {
        "id": "xj6qHs1iZGOe"
      },
      "outputs": [],
      "source": [
        "images = mtif.read_stack(\"/gdrive/MyDrive/intestine images/2022.12.21_APS018_Infection_PA14-GacA_40X_40%_EM-4_D2_3_7047.tif\", units='um')\n",
        "images= np.array(images)"
      ]
    },
    {
      "cell_type": "code",
      "source": [
        "meij = []\n",
        "for s in images:\n",
        "  meij.append(skimage.filters.meijering(s, sigmas=[0.001], black_ridges=False)>(0.11))\n",
        "meij = np.array(meij)"
      ],
      "metadata": {
        "id": "tLY1b1rCXA65"
      },
      "execution_count": null,
      "outputs": []
    },
    {
      "cell_type": "code",
      "source": [
        "plt.imshow(meij[7])"
      ],
      "metadata": {
        "colab": {
          "base_uri": "https://localhost:8080/",
          "height": 452
        },
        "id": "OIVNSfoa_-tT",
        "outputId": "dd0ec1a0-c3a7-4f1f-e4c9-89e39e30ce63"
      },
      "execution_count": null,
      "outputs": [
        {
          "output_type": "execute_result",
          "data": {
            "text/plain": [
              "<matplotlib.image.AxesImage at 0x7ed78b5e86d0>"
            ]
          },
          "metadata": {},
          "execution_count": 101
        },
        {
          "output_type": "display_data",
          "data": {
            "text/plain": [
              "<Figure size 640x480 with 1 Axes>"
            ],
            "image/png": "[encoded data removed]"
          },
          "metadata": {}
        }
      ]
    },
    {
      "cell_type": "code",
      "source": [
        "from PIL import Image\n",
        "img = Image.fromarray(meij[0])\n",
        "img.save(f'image_{1}.png', bitdepth=16)"
      ],
      "metadata": {
        "id": "KnBvYkDesRCa"
      },
      "execution_count": null,
      "outputs": []
    },
    {
      "cell_type": "code",
      "execution_count": null,
      "metadata": {
        "id": "ehPm9--ZSQvF"
      },
      "outputs": [],
      "source": [
        "import numpy as np\n",
        "\n",
        "def create_normalized_kernel(height, width, d, n, sigma=1):\n",
        "    if height % 2 == 0 or width % 2 == 0:\n",
        "        raise ValueError(\"Height and width must be odd\")\n",
        "    center_x, center_y = width // 2, height // 2\n",
        "    x = np.arange(width)\n",
        "    y = np.arange(height)\n",
        "    xv, yv = np.meshgrid(x, y)\n",
        "    kernel = -d * np.exp(-((xv - center_x) ** 2 + (yv - center_y) ** 2) / (2 * sigma ** 2))\n",
        "    kernel[center_y, center_x] = n\n",
        "    kernel /= kernel.sum()\n",
        "    return kernel\n",
        "\n",
        "from scipy.signal import convolve2d\n",
        "\n",
        "def soft_nms(image, decay_parameter=0.45):\n",
        "  kernel = create_normalized_kernel(1, 5, decay_parameter, 1)\n",
        "  out = convolve2d(image, kernel, mode='same', boundary='symm')\n",
        "  out[out < 0] = 0\n",
        "  return out\n",
        "\n",
        "def naive_suppression(image: np.ndarray, c: int) -> np.ndarray:\n",
        "    image = image.astype(np.float32)\n",
        "    # Subtract c from every pixel of the image\n",
        "    result = image - c\n",
        "\n",
        "    # Ensure that pixel values are not less than 0\n",
        "    result[result < 0] = 0\n",
        "\n",
        "    return result\n"
      ]
    },
    {
      "cell_type": "code",
      "execution_count": null,
      "metadata": {
        "id": "ghxyFareOycb"
      },
      "outputs": [],
      "source": [
        "c = 1700\n",
        "naive_suppressed = []\n",
        "for img in images:\n",
        "  naive_suppressed.append(naive_suppression(img, c))\n",
        "naive_suppressed = np.array(naive_suppressed)"
      ]
    },
    {
      "cell_type": "code",
      "execution_count": null,
      "metadata": {
        "id": "y2m1hfLoZGOh"
      },
      "outputs": [],
      "source": [
        "med_blur_images = signal.medfilt(naive_suppressed, kernel_size=(3,5,5))"
      ]
    },
    {
      "cell_type": "code",
      "source": [
        "snms = []\n",
        "for med_img in med_blur_images:\n",
        "  snms.append(soft_nms(med_img))\n",
        "snms = np.array(snms)"
      ],
      "metadata": {
        "id": "9hlPoGoOU0Ol"
      },
      "execution_count": null,
      "outputs": []
    },
    {
      "cell_type": "code",
      "source": [
        "import os\n",
        "import numpy as np\n",
        "from PIL import Image\n",
        "\n",
        "# Create a new folder called 'snms' if it doesn't already exist\n",
        "if not os.path.exists('snms'):\n",
        "    os.makedirs('snms')\n",
        "\n",
        "# Assuming snms_med_blur is a 3D numpy array of shape (num_images, height, width)\n",
        "num_images = snms.shape[0]\n",
        "\n",
        "for i in range(num_images):\n",
        "    # Get the i-th image in the stack\n",
        "    img = snms[i]\n",
        "\n",
        "    # Normalize the pixel data to the range [0, 65535]\n",
        "    img = (img - np.min(img)) / (np.max(img) - np.min(img)) * 65535\n",
        "\n",
        "    # Convert the pixel data to uint16\n",
        "    img = img.astype(np.uint16)\n",
        "\n",
        "    # Convert the numpy array to a PIL Image\n",
        "    img = Image.fromarray(img)\n",
        "\n",
        "#     # Save the image in png format inside the 'snms' folder\n",
        "    img.save(f'snms/image_{i}.png', bitdepth=16)"
      ],
      "metadata": {
        "id": "-w-LPUjs57up"
      },
      "execution_count": null,
      "outputs": []
    },
    {
      "cell_type": "code",
      "source": [
        "meij = []\n",
        "for s in snms:\n",
        "  meij.append(skimage.filters.meijering(s, sigmas=[1], black_ridges=False)>(0.135))\n",
        "meij = np.array(meij)"
      ],
      "metadata": {
        "id": "HVKZuwHqHaWy"
      },
      "execution_count": null,
      "outputs": []
    },
    {
      "cell_type": "code",
      "source": [
        "plt.imshow(meij[7])"
      ],
      "metadata": {
        "colab": {
          "base_uri": "https://localhost:8080/",
          "height": 452
        },
        "id": "fWYpyHLOiW6w",
        "outputId": "966cbf82-2ba8-4bb8-9415-8267fc18a058"
      },
      "execution_count": null,
      "outputs": [
        {
          "output_type": "execute_result",
          "data": {
            "text/plain": [
              "<matplotlib.image.AxesImage at 0x7ed78b8bab90>"
            ]
          },
          "metadata": {},
          "execution_count": 91
        },
        {
          "output_type": "display_data",
          "data": {
            "text/plain": [
              "<Figure size 640x480 with 1 Axes>"
            ],
            "image/png": "[encoded data removed]"
          },
          "metadata": {}
        }
      ]
    },
    {
      "cell_type": "code",
      "source": [
        "meij[7].dtype"
      ],
      "metadata": {
        "colab": {
          "base_uri": "https://localhost:8080/"
        },
        "id": "oIHZj5RsqN4w",
        "outputId": "cede43af-d19b-4f3b-db0a-971deeac0f7d"
      },
      "execution_count": null,
      "outputs": [
        {
          "output_type": "execute_result",
          "data": {
            "text/plain": [
              "dtype('bool')"
            ]
          },
          "metadata": {},
          "execution_count": 13
        }
      ]
    },
    {
      "cell_type": "code",
      "execution_count": null,
      "metadata": {
        "id": "j5bpHC2jx8Xo"
      },
      "outputs": [],
      "source": [
        "# import cv2\n",
        "# import numpy as np\n",
        "\n",
        "# kernel_size = 3\n",
        "# kernel = cv2.getStructuringElement(cv2.MORPH_OPEN, (kernel_size, kernel_size))\n",
        "\n",
        "# # Apply morphological closing operation to each binary image\n",
        "# opened_images = []\n",
        "# for binary_image in meij:\n",
        "#     # Convert binary_image to uint8 data type\n",
        "#     binary_image = binary_image.astype('uint8')\n",
        "#     closed_img = cv2.morphologyEx(binary_image, cv2.MORPH_OPEN, kernel, iterations=1)\n",
        "#     opened_images.append(closed_img)\n",
        "\n",
        "# opened_images = np.array(opened_images)\n"
      ]
    },
    {
      "cell_type": "code",
      "source": [
        "import numpy as np\n",
        "import matplotlib.pyplot as plt\n",
        "from matplotlib.animation import FuncAnimation\n",
        "\n",
        "# Create a figure and axis\n",
        "fig, ax = plt.subplots()\n",
        "\n",
        "# Set the initial image\n",
        "im = ax.imshow(np.take(meij, 0, axis=0))\n",
        "\n",
        "# Define the update function\n",
        "def update(i):\n",
        "    im.set_data(np.take(meij, i, axis=0))\n",
        "\n",
        "# Create the animation\n",
        "ani = FuncAnimation(fig, update, frames=range(meij.shape[0]), interval=1000)\n",
        "\n",
        "from matplotlib.animation import PillowWriter\n",
        "\n",
        "# Set up the writer\n",
        "writer = PillowWriter(fps=2)\n",
        "\n",
        "# Save the animation\n",
        "ani.save('intestine.gif', writer=writer)"
      ],
      "metadata": {
        "colab": {
          "base_uri": "https://localhost:8080/",
          "height": 435
        },
        "id": "9fR5VVx5sKfB",
        "outputId": "ab1d6fdd-f5c0-4b76-e687-406a0a78d97b"
      },
      "execution_count": null,
      "outputs": [
        {
          "output_type": "display_data",
          "data": {
            "text/plain": [
              "<Figure size 640x480 with 1 Axes>"
            ],
            "image/png": "[encoded data removed]"
          },
          "metadata": {}
        }
      ]
    },
    {
      "cell_type": "code",
      "source": [
        "from skimage import io, util\n",
        "\n",
        "def save_binary_stack_as_pngs(stack, output_dir):\n",
        "    \"\"\"\n",
        "    Save each slice of a 3D binary stack as a separate PNG image.\n",
        "\n",
        "    Parameters\n",
        "    ----------\n",
        "    stack : numpy.ndarray\n",
        "        3D binary stack to be saved as separate PNG images.\n",
        "    output_dir : str\n",
        "        Directory where the PNG images will be saved.\n",
        "\n",
        "    Returns\n",
        "    -------\n",
        "    None\n",
        "    \"\"\"\n",
        "    # Create the output directory if it doesn't exist\n",
        "    os.makedirs(output_dir, exist_ok=True)\n",
        "\n",
        "    # Iterate over each slice in the stack\n",
        "    for i, slice in enumerate(stack):\n",
        "        # Convert the slice to an 8-bit unsigned integer array\n",
        "        slice = util.img_as_ubyte(slice)\n",
        "        # Construct the output file path\n",
        "        file_path = os.path.join(output_dir, f'slice_{i:03d}.png')\n",
        "        # Save the slice as a PNG image with check_contrast set to False\n",
        "        io.imsave(file_path, slice, check_contrast=False)\n"
      ],
      "metadata": {
        "id": "ljVNBV16wDhU"
      },
      "execution_count": null,
      "outputs": []
    },
    {
      "cell_type": "code",
      "source": [
        "save_binary_stack_as_pngs(meij, 'images')"
      ],
      "metadata": {
        "id": "H4D3HFqXwlgW"
      },
      "execution_count": null,
      "outputs": []
    },
    {
      "cell_type": "code",
      "execution_count": null,
      "metadata": {
        "id": "3Fo60fUu0p4W"
      },
      "outputs": [],
      "source": [
        "# import matplotlib.pyplot as plt\n",
        "# import matplotlib.patches as patches\n",
        "\n",
        "# def visualize_bounding_box(image: np.ndarray, box: np.ndarray):\n",
        "#     # Create a new figure and axis\n",
        "#     fig, ax = plt.subplots(1)\n",
        "\n",
        "#     # Display the image\n",
        "#     ax.imshow(image)\n",
        "\n",
        "#     # Create a rectangle patch for the bounding box\n",
        "#     rect = patches.Rectangle((box[0, 0], box[0, 1]), box[0, 2] - box[0, 0], box[0, 3] - box[0, 1], linewidth=1, edgecolor='r', facecolor='none')\n",
        "\n",
        "#     # Add the rectangle patch to the axis\n",
        "#     ax.add_patch(rect)\n",
        "\n",
        "#     # Show the plot\n",
        "#     plt.show()\n",
        "\n",
        "\n",
        "# import numpy as np\n",
        "\n",
        "# def bounding_box(image: np.ndarray, margin=100):\n",
        "#     rows = np.any(image, axis=1)\n",
        "#     cols = np.any(image, axis=0)\n",
        "#     top_left = (np.argmax(rows), np.argmax(cols))\n",
        "#     bottom_right = (image.shape[0] - 1 - np.argmax(np.flipud(rows)), image.shape[1] - 1 - np.argmax(np.flipud(cols)))\n",
        "#     top_left = (max(0, top_left[0] - margin), max(0, top_left[1] - margin))\n",
        "#     bottom_right = (min(image.shape[0] - 1, bottom_right[0] + margin), min(image.shape[1] - 1, bottom_right[1] + margin))\n",
        "#     return np.array([top_left[1], top_left[0], bottom_right[1], bottom_right[0]])\n",
        "\n",
        "# def process_image(image, bbox):\n",
        "#     image = image.astype(np.int32)\n",
        "#     x1, y1, x2, y2 = bbox\n",
        "#     mask = np.ones(image.shape, dtype=bool)\n",
        "#     mask[y1:y2, x1:x2] = False\n",
        "#     max_val = image[mask].max()\n",
        "#     result = image - max_val\n",
        "#     result = np.clip(result, 0, None)\n",
        "#     return result\n",
        "\n",
        "# boxes = []\n",
        "# for bin in binary_images:\n",
        "#   boxes.append(bounding_box(bin))\n",
        "# np.array(boxes)\n",
        "\n",
        "# suppressed = []\n",
        "# for i in range(images.shape[0]):\n",
        "#   suppressed.append(process_image(images[i], boxes[i]))\n",
        "# suppressed = np.array(suppressed)\n"
      ]
    },
    {
      "cell_type": "code",
      "source": [],
      "metadata": {
        "id": "NTCMHyrfnUai"
      },
      "execution_count": null,
      "outputs": []
    }
  ],
  "metadata": {
    "colab": {
      "provenance": [],
      "include_colab_link": true
    },
    "kernelspec": {
      "display_name": "Python 3",
      "name": "python3"
    },
    "language_info": {
      "codemirror_mode": {
        "name": "ipython",
        "version": 3
      },
      "file_extension": ".py",
      "mimetype": "text/x-python",
      "name": "python",
      "nbconvert_exporter": "python",
      "pygments_lexer": "ipython3",
      "version": "3.10.10"
    }
  },
  "nbformat": 4,
  "nbformat_minor": 0
}